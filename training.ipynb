{
 "cells": [
  {
   "cell_type": "markdown",
   "metadata": {
    "colab_type": "text",
    "id": "view-in-github"
   },
   "source": [
    "<a href=\"https://colab.research.google.com/github/enesdemirag/gate-detection/blob/colab/training.ipynb\" target=\"_parent\"><img src=\"https://colab.research.google.com/assets/colab-badge.svg\" alt=\"Open In Colab\"/></a>"
   ]
  },
  {
   "cell_type": "code",
   "execution_count": null,
   "metadata": {
    "colab": {
     "base_uri": "https://localhost:8080/",
     "height": 102
    },
    "colab_type": "code",
    "id": "PueZSMRj54wD",
    "outputId": "81a5a9a6-324a-4918-8cb2-7566b6affe5f"
   },
   "outputs": [],
   "source": [
    "# Clone git repository\n",
    "!git clone https://github.com/enesdemirag/gate-detection.git"
   ]
  },
  {
   "cell_type": "code",
   "execution_count": null,
   "metadata": {
    "colab": {
     "base_uri": "https://localhost:8080/",
     "height": 904
    },
    "colab_type": "code",
    "id": "HN4vquvRDEkT",
    "outputId": "9b42a35a-7295-4146-a596-a8590cc459fc"
   },
   "outputs": [],
   "source": [
    "# Install requirements\n",
    "!pip3 install Cython\n",
    "!pip3 install contextlib2\n",
    "!pip3 install pillow\n",
    "!pip3 install lxml\n",
    "!pip3 install jupyter\n",
    "!pip3 install matplotlib"
   ]
  },
  {
   "cell_type": "code",
   "execution_count": null,
   "metadata": {
    "colab": {
     "base_uri": "https://localhost:8080/",
     "height": 51
    },
    "colab_type": "code",
    "id": "M3DqA3oP51_m",
    "outputId": "3b9c23b8-d1bc-4596-c0ef-59474ee6845a"
   },
   "outputs": [],
   "source": [
    "# Checkout simple-training branch\n",
    "import os\n",
    "os.chdir('gate-detection/')\n",
    "!git checkout model"
   ]
  },
  {
   "cell_type": "code",
   "execution_count": null,
   "metadata": {
    "colab": {
     "base_uri": "https://localhost:8080/",
     "height": 153
    },
    "colab_type": "code",
    "id": "mbdd-kTU8Jtf",
    "outputId": "f807615a-cca8-4929-858b-965f6cd2e077"
   },
   "outputs": [],
   "source": [
    "# Clone object detection API\n",
    "!git clone https://github.com/tensorflow/models.git"
   ]
  },
  {
   "cell_type": "code",
   "execution_count": null,
   "metadata": {
    "colab": {
     "base_uri": "https://localhost:8080/",
     "height": 1000
    },
    "colab_type": "code",
    "id": "yl80HEZ-BcIk",
    "outputId": "870127f8-8ec0-4b9a-cb1d-71f14e046956"
   },
   "outputs": [],
   "source": [
    "# Install COCO API\n",
    "!git clone https://github.com/cocodataset/cocoapi.git\n",
    "os.chdir('cocoapi/PythonAPI/')\n",
    "!make\n",
    "!cp -r pycocotools ../../models/research/"
   ]
  },
  {
   "cell_type": "code",
   "execution_count": null,
   "metadata": {
    "colab": {},
    "colab_type": "code",
    "id": "qf8TUvgnCC5N"
   },
   "outputs": [],
   "source": [
    "# Compile Protobuf\n",
    "os.chdir('../../models/research/')\n",
    "!protoc object_detection/protos/*.proto --python_out=.\n",
    "\n",
    "# Add libraries to Python Path\n",
    "!export PYTHONPATH=$PYTHONPATH:`pwd`:`pwd`/slim\n",
    "# !set PYTHONPATH=/content/gate-detection/models/research : /content/gate-detection/models/research/slim"
   ]
  },
  {
   "cell_type": "code",
   "execution_count": null,
   "metadata": {
    "colab": {
     "base_uri": "https://localhost:8080/",
     "height": 1000
    },
    "colab_type": "code",
    "id": "56twsNimE0is",
    "outputId": "45bf9802-26ed-43df-d7a7-4ee7160b367c"
   },
   "outputs": [],
   "source": [
    "# Install API\n",
    "!sudo python3 setup.py install"
   ]
  },
  {
   "cell_type": "code",
   "execution_count": null,
   "metadata": {
    "colab": {},
    "colab_type": "code",
    "id": "PNmgy9KS8aR-"
   },
   "outputs": [],
   "source": [
    "# Copy training files into API folder\n",
    "os.chdir('../../')\n",
    "!cp -r data/ models/research/object_detection/\n",
    "!cp -r images/ models/research/object_detection/\n",
    "!cp -r model/ models/research/object_detection/\n",
    "!cp -r training/ models/research/object_detection/"
   ]
  },
  {
   "cell_type": "code",
   "execution_count": null,
   "metadata": {
    "colab": {},
    "colab_type": "code",
    "id": "VzoGJTvU-JnG"
   },
   "outputs": [],
   "source": [
    "# Get inside object_detection folder\n",
    "os.chdir('models/research/object_detection/')"
   ]
  },
  {
   "cell_type": "code",
   "execution_count": null,
   "metadata": {
    "colab": {
     "base_uri": "https://localhost:8080/",
     "height": 309
    },
    "colab_type": "code",
    "id": "gSl_Bea9-U4O",
    "outputId": "a5c0b753-8a4b-4e65-9f64-821b21c18055"
   },
   "outputs": [],
   "source": [
    "# Run training script\n",
    "!python3 legacy/train.py --logtostderr --train_dir=training/ --pipeline_config_path=training/ssd_mobilenet.config"
   ]
  }
 ],
 "metadata": {
  "accelerator": "GPU",
  "colab": {
   "collapsed_sections": [],
   "include_colab_link": true,
   "name": "Training.ipynb",
   "provenance": []
  },
  "kernelspec": {
   "display_name": "Python 3",
   "language": "python",
   "name": "python3"
  },
  "language_info": {
   "codemirror_mode": {
    "name": "ipython",
    "version": 3
   },
   "file_extension": ".py",
   "mimetype": "text/x-python",
   "name": "python",
   "nbconvert_exporter": "python",
   "pygments_lexer": "ipython3",
   "version": "3.6.9"
  }
 },
 "nbformat": 4,
 "nbformat_minor": 4
}
